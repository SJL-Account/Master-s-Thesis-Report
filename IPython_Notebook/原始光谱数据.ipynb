{
 "cells": [
  {
   "cell_type": "code",
   "execution_count": 82,
   "metadata": {
    "collapsed": false
   },
   "outputs": [],
   "source": [
    "#-------------------基础工具------------------------------\n",
    "import pandas as pd\n",
    "import numpy as np\n",
    "import matplotlib.pyplot as plt\n",
    "import scipy\n",
    "import scipy.signal\n",
    "import time\n",
    "import os\n",
    "#------------------sklearn-------------------------------\n",
    "from sklearn.cluster import k_means\n",
    "from sklearn.linear_model import LogisticRegression\n",
    "from sklearn.neighbors import KNeighborsClassifier\n",
    "from sklearn.ensemble import AdaBoostClassifier\n",
    "from sklearn.ensemble import GradientBoostingClassifier\n",
    "from sklearn.ensemble import RandomForestClassifier\n",
    "from sklearn.preprocessing import StandardScaler\n",
    "from sklearn.preprocessing import OneHotEncoder\n",
    "from sklearn.metrics import accuracy_score\n",
    "from sklearn.metrics import confusion_matrix\n",
    "from sklearn.svm import SVC\n",
    "from sklearn.manifold import t_sne\n",
    "import  sklearn.learning_curve \n",
    "from sklearn.tree import DecisionTreeClassifier\n",
    "\n",
    "#------------------keras --------------------------------\n",
    "from keras.utils import plot_model\n",
    "from keras.layers import Dropout\n",
    "import keras \n",
    "from keras.layers import Dense\n",
    "from keras.layers import Activation\n",
    "from keras.layers import Conv1D\n",
    "from keras.layers import Conv2D\n",
    "from keras.layers import Flatten\n",
    "from keras.layers import MaxPool2D\n",
    "\n",
    "from keras.optimizers import SGD\n",
    "from keras.optimizers import Adam\n",
    "from keras import Sequential\n",
    "\n",
    "\n",
    "#-----------------xgboost----------------------------\n",
    "\n",
    "import xgboost as xgb\n",
    "\n",
    "#---------------------参数设置----------------------------\n",
    "%matplotlib inline\n",
    "#CPU还是GPU\n",
    "import copy\n",
    "namespace='原始特征抽样'\n",
    "name_path='原始特征抽样/'"
   ]
  },
  {
   "cell_type": "code",
   "execution_count": 83,
   "metadata": {
    "collapsed": false
   },
   "outputs": [],
   "source": [
    "def calc_kappa(y_true,y_pre):\n",
    "    p0=0\n",
    "    pe=0\n",
    "    confux_m=confusion_matrix(y_true,y_pre)\n",
    "    confux_m_sum=confux_m.sum()\n",
    "    for i in range(len(confux_m)):\n",
    "        p0+=confux_m[i][i]\n",
    "        pe+=((confux_m[:,i]).sum())*((confux_m[i,:]).sum())\n",
    "    p0=p0/confux_m_sum\n",
    "    pe=pe/(confux_m_sum*confux_m_sum)\n",
    "    kappa=(p0-pe)/(1-pe)\n",
    "    return kappa"
   ]
  },
  {
   "cell_type": "code",
   "execution_count": 84,
   "metadata": {
    "collapsed": false
   },
   "outputs": [],
   "source": [
    "def output(pipline_fit_score,pipline_test_score,pipline_fit_test_score,kappas_,y_true,y_pre,y_fit_pre,clf_name):\n",
    "\n",
    "\n",
    "    if  not (os.path.exists(name_path+clf_name)):\n",
    "\n",
    "        os.mkdir(name_path+clf_name)\n",
    "\n",
    "\n",
    "    pipline_fit_score['accuracy'].append(accuracy_score(y_true,y_fit_pre))\n",
    "\n",
    "    pipline_test_score['accuracy'].append(accuracy_score(y_true,y_pre))\n",
    "\n",
    "    kappas_['kappa'].append(calc_kappa(y_true,y_pre))\n",
    "\n",
    "    pipline_fit_test_score['fit-accuracy'].append(accuracy_score(y_true,y_fit_pre))\n",
    "\n",
    "    pipline_fit_test_score['test-accuracy'].append(accuracy_score(y_true,y_pre))\n",
    "\n",
    "    pd.DataFrame(confusion_matrix(y_true,y_pre),index=range(1,17),columns=range(1,17)).to_csv(name_path+clf_name+'/'+clf_name+'_confux_matrix.csv')  \n",
    "\n",
    "    Salinas_df5_raw[y_true!=y_pre][['row','col']].to_csv(name_path+clf_name+'/false_loc.csv',index=None,columns=None)\n",
    "\n",
    "    Salinas_df5_raw['pre_type']=y_pre\n",
    "    \n",
    "    #np.savetxt(clf_name+'_pre_label.grd', y_pre.reshape(256,108),fmt='%d')\n",
    "\n",
    "    Salinas_df5_raw[['row','col','pre_type']].to_csv( name_path+clf_name+'/_pre.csv')\n"
   ]
  },
  {
   "cell_type": "code",
   "execution_count": 85,
   "metadata": {
    "collapsed": false
   },
   "outputs": [],
   "source": [
    "def ouput2(pipline_fit_score,pipline_test_score,pipline_fit_test_score,kappas_,clf_names):\n",
    "    \n",
    "    if not (os.path.exists(name_path+'统计量')):\n",
    "        \n",
    "        os.mkdir(name_path+'统计量')\n",
    "    \n",
    "    print('正在输出分类器准确率')\n",
    "\n",
    "    pd.DataFrame(pipline_fit_score,index=clf_names).sort_values(by='accuracy').to_csv(name_path+'统计量/fit_accuracy.csv')\n",
    "    pd.DataFrame(pipline_test_score,index=clf_names).sort_values(by='accuracy').to_csv(name_path+'统计量/test_accuracy.csv')\n",
    "    pd.DataFrame(pipline_fit_test_score,index=clf_names).to_csv(name_path+'统计量/fit_test_accuracy.csv')\n",
    "\n",
    "    print('正在输出kappa系数')\n",
    "\n",
    "    pd.DataFrame(kappas_,index=clf_names).sort_values(by='kappa').to_csv(name_path+'统计量/kappa.csv')"
   ]
  },
  {
   "cell_type": "markdown",
   "metadata": {},
   "source": [
    "数据的导入，切分，标准化"
   ]
  },
  {
   "cell_type": "code",
   "execution_count": 86,
   "metadata": {
    "collapsed": false
   },
   "outputs": [
    {
     "name": "stdout",
     "output_type": "stream",
     "text": [
      "训练集维度： (27648, 27) 训练集变量: ['V4', 'V12', 'V20', 'V28', 'V36', 'V44', 'V52', 'V60', 'V68', 'V76', 'V84', 'V92', 'V100', 'V108', 'V116', 'V124', 'V132', 'V140', 'V148', 'V156', 'V164', 'V172', 'V180', 'V188']\n",
      "测试集维度： (27648, 27) 测试集变量: ['V5', 'V13', 'V21', 'V29', 'V37', 'V45', 'V53', 'V61', 'V69', 'V77', 'V85', 'V93', 'V101', 'V109', 'V117', 'V125', 'V133', 'V141', 'V149', 'V157', 'V165', 'V173', 'V181', 'V189']\n"
     ]
    },
    {
     "data": {
      "text/plain": [
       "<matplotlib.axes._subplots.AxesSubplot at 0x226d634b320>"
      ]
     },
     "execution_count": 86,
     "metadata": {},
     "output_type": "execute_result"
    },
    {
     "data": {
      "image/png": "[encoded data removed]",
      "text/plain": [
       "<matplotlib.figure.Figure at 0x226d634b7f0>"
      ]
     },
     "metadata": {},
     "output_type": "display_data"
    }
   ],
   "source": [
    "Salinas_df4_raw=pd.read_csv('Salinas_bandselect/SalinasResize_FCwithRC_No_4.txt',delimiter='\\t',index_col=False)\n",
    "Salinas_df5_raw=pd.read_csv('Salinas_bandselect/SalinasResize_FCwithRC_No_5.txt',delimiter='\\t',index_col=False)\n",
    "df4_columns=Salinas_df4_raw.columns[2:-1].tolist()\n",
    "df5_columns=Salinas_df5_raw.columns[2:-1].tolist()\n",
    "print('训练集维度：',Salinas_df4_raw.shape,'训练集变量:',df4_columns)\n",
    "print('测试集维度：',Salinas_df5_raw.shape,'测试集变量:',df5_columns)\n",
    "\n",
    "Salinas_df4_raw=Salinas_df4_raw[Salinas_df4_raw.type!=0]\n",
    "Salinas_df5_raw=Salinas_df5_raw[Salinas_df5_raw.type!=0]\n",
    "Salinas_df4=copy.deepcopy(Salinas_df4_raw)\n",
    "Salinas_df5=copy.deepcopy(Salinas_df5_raw)\n",
    "std=StandardScaler()\n",
    "Salinas_df4.pop('row')\n",
    "Salinas_df4.pop('col')\n",
    "y_train=Salinas_df4.pop('type')\n",
    "x_train=Salinas_df4\n",
    "x_train=std.fit_transform(x_train)\n",
    "Salinas_df5.pop('row')\n",
    "Salinas_df5.pop('col')\n",
    "y_test=Salinas_df5.pop('type')\n",
    "x_test=Salinas_df5\n",
    "x_test=std.fit_transform(x_test)\n",
    "y_true=y_test\n",
    "y_train.value_counts().plot(kind='bar')"
   ]
  },
  {
   "cell_type": "code",
   "execution_count": 87,
   "metadata": {
    "collapsed": false
   },
   "outputs": [
    {
     "name": "stdout",
     "output_type": "stream",
     "text": [
      "拟合 逻辑回归 0.8834692364714604\n",
      "测试 逻辑回归 0.8828020756115641\n",
      "拟合 梯度提升决策树 0.950481838398814\n",
      "测试 梯度提升决策树 0.9095626389918459\n",
      "拟合 随机森林 0.9941438102297998\n",
      "测试 随机森林 0.9240177909562639\n",
      "拟合 决策树 1.0\n",
      "测试 决策树 0.8822090437361008\n",
      "拟合 K-临近 0.9306152705707932\n",
      "测试 K-临近 0.9178650852483321\n",
      "拟合 SVM 0.8987398072646404\n",
      "测试 SVM 0.8952557449962936\n",
      "正在输出分类器准确率\n",
      "正在输出kappa系数\n"
     ]
    }
   ],
   "source": [
    "if not (os.path.exists(namespace)):\n",
    "    os.mkdir(namespace)\n",
    "\n",
    "piplines=[LogisticRegression(),GradientBoostingClassifier(),RandomForestClassifier(),DecisionTreeClassifier(),KNeighborsClassifier(),SVC()]\n",
    "pipline_fit_score={'accuracy':[]}\n",
    "pipline_test_score={'accuracy':[]}\n",
    "pipline_fit_test_score={'fit-accuracy':[],'test-accuracy':[]}\n",
    "kappas_={'kappa':[]}\n",
    "\n",
    "clf_names=['逻辑回归','梯度提升决策树','随机森林','决策树','K-临近','SVM']\n",
    "\n",
    "for clf_name,clf in zip(clf_names,piplines):\n",
    "    \n",
    "    \n",
    "    clf.fit(x_train,y_train)\n",
    "    \n",
    "    print('拟合',clf_name,clf.score(x_train,y_train))\n",
    "    \n",
    "    print('测试',clf_name,clf.score(x_test,y_test))\n",
    "    \n",
    "    y_fit_pre=clf.predict(x_train)\n",
    "\n",
    "    y_pre=clf.predict(x_test)\n",
    "    \n",
    "    output(pipline_fit_score,pipline_test_score,pipline_fit_test_score,kappas_,y_true,y_pre,y_fit_pre,clf_name)\n",
    "\n",
    "ouput2(pipline_fit_score,pipline_test_score,pipline_fit_test_score,kappas_,clf_names)"
   ]
  },
  {
   "cell_type": "code",
   "execution_count": 88,
   "metadata": {
    "collapsed": false
   },
   "outputs": [
    {
     "name": "stdout",
     "output_type": "stream",
     "text": [
      "[0]\ttrain-merror:0.08725\ttest-merror:0.115419\n",
      "[100]\ttrain-merror:0.001112\ttest-merror:0.069904\n",
      "[200]\ttrain-merror:0\ttest-merror:0.067902\n",
      "[300]\ttrain-merror:0\ttest-merror:0.06679\n",
      "[399]\ttrain-merror:0\ttest-merror:0.067309\n"
     ]
    },
    {
     "data": {
      "text/plain": [
       "0.9326908821349148"
      ]
     },
     "execution_count": 88,
     "metadata": {},
     "output_type": "execute_result"
    }
   ],
   "source": [
    "xgb_data_train=xgb.DMatrix(x_train,label=y_train)\n",
    "xgb_data_test=xgb.DMatrix(x_test,label=y_test)\n",
    "params={'max_depth':10,'eta':0.1,'silent':0,'objective':'multi:softmax','num_class':17,'alpha':0.5}\n",
    "bst=xgb.train(params, \n",
    "          xgb_data_train, \n",
    "          num_boost_round=400, \n",
    "          evals=[(xgb_data_train,'train'),(xgb_data_test,'test')], \n",
    "          obj=None, \n",
    "          feval=None, \n",
    "          maximize=False, \n",
    "          early_stopping_rounds=None,\n",
    "          evals_result=None,\n",
    "          verbose_eval=100,\n",
    "          xgb_model=None,\n",
    "          callbacks=None)\n",
    "xgb_data_test=xgb.DMatrix(x_test)\n",
    "y_pre=bst.predict(xgb_data_test)\n",
    "y_true=y_test\n",
    "\n",
    "y_pre=bst.predict(xgb_data_test)\n",
    "y_fit_pre=bst.predict(xgb_data_train)\n",
    "y_true=y_test\n",
    "accuracy_score(y_true,y_pre)\n"
   ]
  },
  {
   "cell_type": "code",
   "execution_count": 89,
   "metadata": {
    "collapsed": false
   },
   "outputs": [
    {
     "name": "stdout",
     "output_type": "stream",
     "text": [
      "正在输出分类器准确率\n",
      "正在输出kappa系数\n"
     ]
    }
   ],
   "source": [
    "clf_name='XGBoost'\n",
    "clf_names.append(clf_name)\n",
    "output(pipline_fit_score,pipline_test_score,pipline_fit_test_score,kappas_,y_true,y_pre,y_fit_pre,clf_name)\n",
    "ouput2(pipline_fit_score,pipline_test_score,pipline_fit_test_score,kappas_,clf_names)"
   ]
  },
  {
   "cell_type": "code",
   "execution_count": 90,
   "metadata": {
    "collapsed": false
   },
   "outputs": [
    {
     "name": "stdout",
     "output_type": "stream",
     "text": [
      "Epoch 1/50\n",
      "13490/13490 [==============================] - 2s 123us/step - loss: 0.0326\n",
      "Epoch 2/50\n",
      "13490/13490 [==============================] - 1s 109us/step - loss: 0.0242\n",
      "Epoch 3/50\n",
      "13490/13490 [==============================] - 1s 107us/step - loss: 0.0219\n",
      "Epoch 4/50\n",
      "13490/13490 [==============================] - 1s 101us/step - loss: 0.0204\n",
      "Epoch 5/50\n",
      "13490/13490 [==============================] - 1s 105us/step - loss: 0.0193\n",
      "Epoch 6/50\n",
      "13490/13490 [==============================] - 1s 111us/step - loss: 0.0185\n",
      "Epoch 7/50\n",
      "13490/13490 [==============================] - 1s 98us/step - loss: 0.0178\n",
      "Epoch 8/50\n",
      "13490/13490 [==============================] - 1s 108us/step - loss: 0.0172\n",
      "Epoch 9/50\n",
      "13490/13490 [==============================] - 1s 101us/step - loss: 0.0167\n",
      "Epoch 10/50\n",
      "13490/13490 [==============================] - 1s 103us/step - loss: 0.0163\n",
      "Epoch 11/50\n",
      "13490/13490 [==============================] - 1s 106us/step - loss: 0.0160\n",
      "Epoch 12/50\n",
      "13490/13490 [==============================] - 1s 106us/step - loss: 0.0156\n",
      "Epoch 13/50\n",
      "13490/13490 [==============================] - 2s 114us/step - loss: 0.0153\n",
      "Epoch 14/50\n",
      "13490/13490 [==============================] - 1s 105us/step - loss: 0.0150\n",
      "Epoch 15/50\n",
      "13490/13490 [==============================] - 1s 111us/step - loss: 0.0148\n",
      "Epoch 16/50\n",
      "13490/13490 [==============================] - 2s 113us/step - loss: 0.0145\n",
      "Epoch 17/50\n",
      "13490/13490 [==============================] - 2s 113us/step - loss: 0.0143\n",
      "Epoch 18/50\n",
      "13490/13490 [==============================] - 2s 112us/step - loss: 0.0141\n",
      "Epoch 19/50\n",
      "13490/13490 [==============================] - 1s 108us/step - loss: 0.0138\n",
      "Epoch 20/50\n",
      "13490/13490 [==============================] - 2s 112us/step - loss: 0.0136\n",
      "Epoch 21/50\n",
      "13490/13490 [==============================] - 1s 106us/step - loss: 0.0135\n",
      "Epoch 22/50\n",
      "13490/13490 [==============================] - 1s 107us/step - loss: 0.0133\n",
      "Epoch 23/50\n",
      "13490/13490 [==============================] - 1s 104us/step - loss: 0.0132\n",
      "Epoch 24/50\n",
      "13490/13490 [==============================] - 1s 101us/step - loss: 0.0130\n",
      "Epoch 25/50\n",
      "13490/13490 [==============================] - 1s 107us/step - loss: 0.0129\n",
      "Epoch 26/50\n",
      "13490/13490 [==============================] - 2s 113us/step - loss: 0.0127\n",
      "Epoch 27/50\n",
      "13490/13490 [==============================] - 2s 113us/step - loss: 0.0126\n",
      "Epoch 28/50\n",
      "13490/13490 [==============================] - 1s 108us/step - loss: 0.0125\n",
      "Epoch 29/50\n",
      "13490/13490 [==============================] - 1s 110us/step - loss: 0.0124\n",
      "Epoch 30/50\n",
      "13490/13490 [==============================] - 2s 112us/step - loss: 0.0123\n",
      "Epoch 31/50\n",
      "13490/13490 [==============================] - 1s 106us/step - loss: 0.0122\n",
      "Epoch 32/50\n",
      "13490/13490 [==============================] - 1s 102us/step - loss: 0.0121\n",
      "Epoch 33/50\n",
      "13490/13490 [==============================] - 1s 101us/step - loss: 0.0120\n",
      "Epoch 34/50\n",
      "13490/13490 [==============================] - 1s 104us/step - loss: 0.0120\n",
      "Epoch 35/50\n",
      "13490/13490 [==============================] - 1s 105us/step - loss: 0.0119\n",
      "Epoch 36/50\n",
      "13490/13490 [==============================] - 1s 107us/step - loss: 0.0118\n",
      "Epoch 37/50\n",
      "13490/13490 [==============================] - 1s 107us/step - loss: 0.0117\n",
      "Epoch 38/50\n",
      "13490/13490 [==============================] - 2s 113us/step - loss: 0.0117\n",
      "Epoch 39/50\n",
      "13490/13490 [==============================] - 1s 104us/step - loss: 0.0116\n",
      "Epoch 40/50\n",
      "13490/13490 [==============================] - 1s 101us/step - loss: 0.0116\n",
      "Epoch 41/50\n",
      "13490/13490 [==============================] - 1s 106us/step - loss: 0.0115\n",
      "Epoch 42/50\n",
      "13490/13490 [==============================] - 1s 107us/step - loss: 0.0115\n",
      "Epoch 43/50\n",
      "13490/13490 [==============================] - 1s 108us/step - loss: 0.0114\n",
      "Epoch 44/50\n",
      "13490/13490 [==============================] - 2s 112us/step - loss: 0.0114\n",
      "Epoch 45/50\n",
      "13490/13490 [==============================] - 2s 111us/step - loss: 0.0113\n",
      "Epoch 46/50\n",
      "13490/13490 [==============================] - 1s 101us/step - loss: 0.0112\n",
      "Epoch 47/50\n",
      "13490/13490 [==============================] - 2s 113us/step - loss: 0.0112\n",
      "Epoch 48/50\n",
      "13490/13490 [==============================] - 2s 112us/step - loss: 0.0112\n",
      "Epoch 49/50\n",
      "13490/13490 [==============================] - 2s 112us/step - loss: 0.0111\n",
      "Epoch 50/50\n",
      "13490/13490 [==============================] - 1s 109us/step - loss: 0.0111\n"
     ]
    }
   ],
   "source": [
    "i=6\n",
    "input_dim=x_train.shape[1]\n",
    "output_dim=len(set(y_train.tolist()))\n",
    "batch_size=16\n",
    "lr=0.1\n",
    "epochs=50\n",
    "hidden_num = input_dim*i\n",
    "hidden_num_2 = output_dim*i\n",
    "ohe = OneHotEncoder()\n",
    "y_train=ohe.fit_transform(np.matrix(y_train.values).T).toarray()\n",
    "model=Sequential()\n",
    "model.add(Dense(input_dim=input_dim,units=hidden_num))\n",
    "model.add(Activation('relu'))\n",
    "model.add(Dense(input_dim=hidden_num_2,units=output_dim))\n",
    "optimizer=SGD(lr=lr)\n",
    "model.compile(loss='mean_squared_error',optimizer=optimizer)\n",
    "model.fit(x_train,y_train,epochs=epochs,batch_size=batch_size,verbose=1)\n",
    "\n",
    "y_pre=model.predict_classes(x_test, batch_size=batch_size)\n",
    "y_fit_pre=model.predict_classes(x_train, batch_size=batch_size)\n",
    "\n",
    "y_true=y_test\n",
    "y_pre=y_pre+1\n",
    "y_fit_pre=y_fit_pre+1\n"
   ]
  },
  {
   "cell_type": "code",
   "execution_count": 91,
   "metadata": {
    "collapsed": false
   },
   "outputs": [
    {
     "name": "stdout",
     "output_type": "stream",
     "text": [
      "正在输出分类器准确率\n",
      "正在输出kappa系数\n"
     ]
    }
   ],
   "source": [
    "clf_name='NN'\n",
    "clf_names.append(clf_name)\n",
    "output(pipline_fit_score,pipline_test_score,pipline_fit_test_score,kappas_,y_true,y_pre,y_fit_pre,clf_name)\n",
    "ouput2(pipline_fit_score,pipline_test_score,pipline_fit_test_score,kappas_,clf_names)"
   ]
  },
  {
   "cell_type": "markdown",
   "metadata": {},
   "source": [
    "# 输出部分"
   ]
  },
  {
   "cell_type": "markdown",
   "metadata": {},
   "source": [
    "交叉矩阵(准确率、召回率,F1)"
   ]
  },
  {
   "cell_type": "markdown",
   "metadata": {},
   "source": [
    "kappa系数\n",
    "准确率\n",
    "kappa计算结果为-1~1，但通常kappa是落在 0~1 间，可分为五组来表示不同级别的一致性：\n",
    "0.0~0.20极低的一致性(slight)、\n",
    "0.21~0.40一般的一致性(fair)、\n",
    "0.41~0.60 中等的一致性(moderate)、\n",
    "0.61~0.80 高度的一致性(substantial)\n",
    "0.81~1几乎完全一致(almost perfect)。\n"
   ]
  },
  {
   "cell_type": "markdown",
   "metadata": {},
   "source": [
    "losss下降过程(运算时间)"
   ]
  },
  {
   "cell_type": "markdown",
   "metadata": {},
   "source": [
    "错的点的坐标"
   ]
  },
  {
   "cell_type": "markdown",
   "metadata": {},
   "source": [
    "预测值的输出"
   ]
  },
  {
   "cell_type": "markdown",
   "metadata": {},
   "source": [
    "神经网络层数图片"
   ]
  },
  {
   "cell_type": "markdown",
   "metadata": {},
   "source": [
    "学习曲线"
   ]
  },
  {
   "cell_type": "code",
   "execution_count": null,
   "metadata": {
    "collapsed": true
   },
   "outputs": [],
   "source": []
  }
 ],
 "metadata": {
  "kernelspec": {
   "display_name": "Python 3",
   "language": "python",
   "name": "python3"
  },
  "language_info": {
   "codemirror_mode": {
    "name": "ipython",
    "version": 3
   },
   "file_extension": ".py",
   "mimetype": "text/x-python",
   "name": "python",
   "nbconvert_exporter": "python",
   "pygments_lexer": "ipython3",
   "version": "3.5.1"
  }
 },
 "nbformat": 4,
 "nbformat_minor": 0
}
