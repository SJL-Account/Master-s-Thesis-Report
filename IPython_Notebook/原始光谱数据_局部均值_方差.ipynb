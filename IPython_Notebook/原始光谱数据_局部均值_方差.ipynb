{
 "cells": [
  {
   "cell_type": "code",
   "execution_count": 22,
   "metadata": {
    "collapsed": false
   },
   "outputs": [],
   "source": [
    "#-------------------基础工具------------------------------\n",
    "import pandas as pd\n",
    "import numpy as np\n",
    "import matplotlib.pyplot as plt\n",
    "import scipy\n",
    "import scipy.signal\n",
    "import time\n",
    "import os\n",
    "#------------------sklearn-------------------------------\n",
    "from sklearn.cluster import k_means\n",
    "from sklearn.linear_model import LogisticRegression\n",
    "from sklearn.neighbors import KNeighborsClassifier\n",
    "from sklearn.ensemble import AdaBoostClassifier\n",
    "from sklearn.ensemble import GradientBoostingClassifier\n",
    "from sklearn.ensemble import RandomForestClassifier\n",
    "from sklearn.preprocessing import StandardScaler\n",
    "from sklearn.preprocessing import OneHotEncoder\n",
    "from sklearn.metrics import accuracy_score\n",
    "from sklearn.metrics import confusion_matrix\n",
    "from sklearn.svm import SVC\n",
    "from sklearn.manifold import t_sne\n",
    "import  sklearn.learning_curve \n",
    "from sklearn.tree import DecisionTreeClassifier\n",
    "\n",
    "#------------------keras --------------------------------\n",
    "from keras.utils import plot_model\n",
    "from keras.layers import Dropout\n",
    "import keras \n",
    "from keras.layers import Dense\n",
    "from keras.layers import Activation\n",
    "from keras.layers import Conv1D\n",
    "from keras.layers import Conv2D\n",
    "from keras.layers import Flatten\n",
    "from keras.layers import MaxPool2D\n",
    "\n",
    "from keras.optimizers import SGD\n",
    "from keras.optimizers import Adam\n",
    "from keras import Sequential\n",
    "\n",
    "\n",
    "#-----------------xgboost----------------------------\n",
    "\n",
    "import xgboost as xgb\n",
    "\n",
    "#---------------------参数设置----------------------------\n",
    "%matplotlib inline\n",
    "#CPU还是GPU\n",
    "import copy\n",
    "namespace='原始特征抽样_局部均值_方差'\n",
    "name_path='原始特征抽样_局部均值_方差/'"
   ]
  },
  {
   "cell_type": "code",
   "execution_count": 23,
   "metadata": {
    "collapsed": false
   },
   "outputs": [],
   "source": [
    "def calc_kappa(y_true,y_pre):\n",
    "    p0=0\n",
    "    pe=0\n",
    "    confux_m=confusion_matrix(y_true,y_pre)\n",
    "    confux_m_sum=confux_m.sum()\n",
    "    for i in range(len(confux_m)):\n",
    "        p0+=confux_m[i][i]\n",
    "        pe+=((confux_m[:,i]).sum())*((confux_m[i,:]).sum())\n",
    "    p0=p0/confux_m_sum\n",
    "    pe=pe/(confux_m_sum*confux_m_sum)\n",
    "    kappa=(p0-pe)/(1-pe)\n",
    "    return kappa"
   ]
  },
  {
   "cell_type": "code",
   "execution_count": 51,
   "metadata": {
    "collapsed": false
   },
   "outputs": [],
   "source": [
    "def conv_custom_1(data,columns,kernel,op='arg'):\n",
    "    label_img=data['type'].values.reshape(256,108)\n",
    "    for col in columns:\n",
    "        var_img=data[col].values.reshape(256,108)\n",
    "        con_var_img=np.zeros((258,110))\n",
    "        con_label_img=np.ndarray(shape=(258,110),dtype=np.int32)\n",
    "        con_label_img[:,:]=-1\n",
    "        con_re=np.zeros((256,108))\n",
    "        for i in range(256):\n",
    "            for j in range(108):\n",
    "                con_var_img[i+1][j+1]=var_img[i][j]\n",
    "                con_label_img[i+1][j+1]=label_img[i][j]\n",
    "        for i in range(1,257):\n",
    "            for j in range(1,109):\n",
    "                center=con_label_img[i][j]\n",
    "                label_map=con_label_img[i-1:i+2,j-1:j+2]\n",
    "                label_filter=(label_map==center)\n",
    "                \n",
    "                if op=='arg':\n",
    "                    con_re[i-1][j-1]=con_var_img[i-1:i+2,j-1:j+2][label_filter].mean()\n",
    "                elif op=='var':\n",
    "                    con_re[i-1][j-1]=con_var_img[i-1:i+2,j-1:j+2][label_filter].var()\n",
    "        if op=='arg':\n",
    "            data[col+'_arg']=con_re.flatten()\n",
    "        elif op=='var':\n",
    "            data[col+'_var']=con_re.flatten()"
   ]
  },
  {
   "cell_type": "code",
   "execution_count": 52,
   "metadata": {
    "collapsed": false
   },
   "outputs": [],
   "source": [
    "def output(pipline_fit_score,pipline_test_score,pipline_fit_test_score,kappas_,y_true,y_pre,y_fit_pre,clf_name):\n",
    "\n",
    "\n",
    "    if  not (os.path.exists(name_path+clf_name)):\n",
    "\n",
    "        os.mkdir(name_path+clf_name)\n",
    "\n",
    "\n",
    "    pipline_fit_score['accuracy'].append(accuracy_score(y_true,y_fit_pre))\n",
    "\n",
    "    pipline_test_score['accuracy'].append(accuracy_score(y_true,y_pre))\n",
    "\n",
    "    kappas_['kappa'].append(calc_kappa(y_true,y_pre))\n",
    "\n",
    "    pipline_fit_test_score['fit-accuracy'].append(accuracy_score(y_true,y_fit_pre))\n",
    "\n",
    "    pipline_fit_test_score['test-accuracy'].append(accuracy_score(y_true,y_pre))\n",
    "\n",
    "    pd.DataFrame(confusion_matrix(y_true,y_pre),index=range(1,17),columns=range(1,17)).to_csv(name_path+clf_name+'/'+clf_name+'_confux_matrix.csv')  \n",
    "\n",
    "    Salinas_df5_raw[y_true!=y_pre][['row','col']].to_csv(name_path+clf_name+'/false_loc.csv',index=None,columns=None)\n",
    "\n",
    "    Salinas_df5_raw['pre_type']=y_pre\n",
    "    \n",
    "    #np.savetxt(clf_name+'_pre_label.grd', y_pre.reshape(256,108),fmt='%d')\n",
    "\n",
    "    Salinas_df5_raw[['row','col','pre_type']].to_csv( name_path+clf_name+'/_pre.csv')\n"
   ]
  },
  {
   "cell_type": "code",
   "execution_count": 53,
   "metadata": {
    "collapsed": false
   },
   "outputs": [],
   "source": [
    "def ouput2(pipline_fit_score,pipline_test_score,pipline_fit_test_score,kappas_,clf_names):\n",
    "    \n",
    "    if not (os.path.exists(name_path+'统计量')):\n",
    "        \n",
    "        os.mkdir(name_path+'统计量')\n",
    "    \n",
    "    print('正在输出分类器准确率')\n",
    "\n",
    "    pd.DataFrame(pipline_fit_score,index=clf_names).sort_values(by='accuracy').to_csv(name_path+'统计量/fit_accuracy.csv')\n",
    "    pd.DataFrame(pipline_test_score,index=clf_names).sort_values(by='accuracy').to_csv(name_path+'统计量/test_accuracy.csv')\n",
    "    pd.DataFrame(pipline_fit_test_score,index=clf_names).to_csv(name_path+'统计量/fit_test_accuracy.csv')\n",
    "\n",
    "    print('正在输出kappa系数')\n",
    "\n",
    "    pd.DataFrame(kappas_,index=clf_names).sort_values(by='kappa').to_csv(name_path+'统计量/kappa.csv')"
   ]
  },
  {
   "cell_type": "markdown",
   "metadata": {},
   "source": [
    "数据的导入，切分，标准化"
   ]
  },
  {
   "cell_type": "code",
   "execution_count": 54,
   "metadata": {
    "collapsed": false
   },
   "outputs": [
    {
     "name": "stdout",
     "output_type": "stream",
     "text": [
      "训练集维度： (27648, 27) 训练集变量: ['V4', 'V12', 'V20', 'V28', 'V36', 'V44', 'V52', 'V60', 'V68', 'V76', 'V84', 'V92', 'V100', 'V108', 'V116', 'V124', 'V132', 'V140', 'V148', 'V156', 'V164', 'V172', 'V180', 'V188']\n",
      "测试集维度： (27648, 27) 测试集变量: ['V5', 'V13', 'V21', 'V29', 'V37', 'V45', 'V53', 'V61', 'V69', 'V77', 'V85', 'V93', 'V101', 'V109', 'V117', 'V125', 'V133', 'V141', 'V149', 'V157', 'V165', 'V173', 'V181', 'V189']\n"
     ]
    }
   ],
   "source": [
    "Salinas_df4_raw=pd.read_csv('Salinas_bandselect/SalinasResize_FCwithRC_No_4.txt',delimiter='\\t',index_col=False)\n",
    "Salinas_df5_raw=pd.read_csv('Salinas_bandselect/SalinasResize_FCwithRC_No_5.txt',delimiter='\\t',index_col=False)\n",
    "df4_columns=Salinas_df4_raw.columns[2:-1].tolist()\n",
    "df5_columns=Salinas_df5_raw.columns[2:-1].tolist()\n",
    "print('训练集维度：',Salinas_df4_raw.shape,'训练集变量:',df4_columns)\n",
    "print('测试集维度：',Salinas_df5_raw.shape,'测试集变量:',df5_columns)"
   ]
  },
  {
   "cell_type": "code",
   "execution_count": 55,
   "metadata": {
    "collapsed": false,
    "scrolled": false
   },
   "outputs": [
    {
     "name": "stdout",
     "output_type": "stream",
     "text": [
      "['V5', 'V13', 'V21', 'V29', 'V37', 'V45', 'V53', 'V61', 'V69', 'V77', 'V85', 'V93', 'V101', 'V109', 'V117', 'V125', 'V133', 'V141', 'V149', 'V157', 'V165', 'V173', 'V181', 'V189']\n"
     ]
    },
    {
     "data": {
      "text/plain": [
       "<matplotlib.axes._subplots.AxesSubplot at 0x1ec13ecd400>"
      ]
     },
     "execution_count": 55,
     "metadata": {},
     "output_type": "execute_result"
    },
    {
     "data": {
      "image/png": "[encoded data removed]",
      "text/plain": [
       "<matplotlib.figure.Figure at 0x1ec13ecd630>"
      ]
     },
     "metadata": {},
     "output_type": "display_data"
    }
   ],
   "source": [
    "\n",
    "\n",
    "#---------------------------------------------------------\n",
    "kernel=np.ones((3,3))/9\n",
    "conv_custom_1(Salinas_df4_raw,df4_columns,kernel,op='arg')\n",
    "conv_custom_1(Salinas_df5_raw,df5_columns,kernel,op='arg')\n",
    "print(df5_columns)\n",
    "conv_custom_1(Salinas_df4_raw,df4_columns,kernel,op='var')\n",
    "conv_custom_1(Salinas_df5_raw,df5_columns,kernel,op='var')\n",
    "#----------------------------------------------------------\n",
    "\n",
    "\n",
    "Salinas_df4_raw=Salinas_df4_raw[Salinas_df4_raw.type!=0]\n",
    "Salinas_df5_raw=Salinas_df5_raw[Salinas_df5_raw.type!=0]\n",
    "Salinas_df4=copy.deepcopy(Salinas_df4_raw)\n",
    "Salinas_df5=copy.deepcopy(Salinas_df5_raw)\n",
    "std=StandardScaler()\n",
    "Salinas_df4.pop('row')\n",
    "Salinas_df4.pop('col')\n",
    "y_train=Salinas_df4.pop('type')\n",
    "x_train=Salinas_df4\n",
    "x_train=std.fit_transform(x_train)\n",
    "Salinas_df5.pop('row')\n",
    "Salinas_df5.pop('col')\n",
    "y_test=Salinas_df5.pop('type')\n",
    "x_test=Salinas_df5\n",
    "x_test=std.fit_transform(x_test)\n",
    "y_true=y_test\n",
    "y_train.value_counts().plot(kind='bar')"
   ]
  },
  {
   "cell_type": "code",
   "execution_count": 56,
   "metadata": {
    "collapsed": false
   },
   "outputs": [
    {
     "data": {
      "text/plain": [
       "Index(['row', 'col', 'V5', 'V13', 'V21', 'V29', 'V37', 'V45', 'V53', 'V61',\n",
       "       'V69', 'V77', 'V85', 'V93', 'V101', 'V109', 'V117', 'V125', 'V133',\n",
       "       'V141', 'V149', 'V157', 'V165', 'V173', 'V181', 'V189', 'type',\n",
       "       'V5_arg', 'V13_arg', 'V21_arg', 'V29_arg', 'V37_arg', 'V45_arg',\n",
       "       'V53_arg', 'V61_arg', 'V69_arg', 'V77_arg', 'V85_arg', 'V93_arg',\n",
       "       'V101_arg', 'V109_arg', 'V117_arg', 'V125_arg', 'V133_arg', 'V141_arg',\n",
       "       'V149_arg', 'V157_arg', 'V165_arg', 'V173_arg', 'V181_arg', 'V189_arg',\n",
       "       'V5_var', 'V13_var', 'V21_var', 'V29_var', 'V37_var', 'V45_var',\n",
       "       'V53_var', 'V61_var', 'V69_var', 'V77_var', 'V85_var', 'V93_var',\n",
       "       'V101_var', 'V109_var', 'V117_var', 'V125_var', 'V133_var', 'V141_var',\n",
       "       'V149_var', 'V157_var', 'V165_var', 'V173_var', 'V181_var', 'V189_var'],\n",
       "      dtype='object')"
      ]
     },
     "execution_count": 56,
     "metadata": {},
     "output_type": "execute_result"
    }
   ],
   "source": [
    "Salinas_df5_raw.columns"
   ]
  },
  {
   "cell_type": "code",
   "execution_count": 57,
   "metadata": {
    "collapsed": false
   },
   "outputs": [
    {
     "name": "stdout",
     "output_type": "stream",
     "text": [
      "拟合 逻辑回归 0.9312083024462565\n",
      "测试 逻辑回归 0.9200889547813195\n",
      "拟合 梯度提升决策树 0.9869532987398073\n",
      "测试 梯度提升决策树 0.964936990363232\n",
      "拟合 随机森林 0.9980726464047442\n",
      "测试 随机森林 0.9727205337286879\n",
      "拟合 决策树 1.0\n",
      "测试 决策树 0.9421052631578948\n",
      "拟合 K-临近 0.9619718309859155\n",
      "测试 K-临近 0.9569310600444774\n",
      "拟合 SVM 0.93587842846553\n",
      "测试 SVM 0.9342475908080059\n",
      "正在输出分类器准确率\n",
      "正在输出kappa系数\n"
     ]
    }
   ],
   "source": [
    "if not (os.path.exists(namespace)):\n",
    "    os.mkdir(namespace)\n",
    "\n",
    "piplines=[LogisticRegression(),GradientBoostingClassifier(),RandomForestClassifier(),DecisionTreeClassifier(),KNeighborsClassifier(),SVC()]\n",
    "pipline_fit_score={'accuracy':[]}\n",
    "pipline_test_score={'accuracy':[]}\n",
    "pipline_fit_test_score={'fit-accuracy':[],'test-accuracy':[]}\n",
    "kappas_={'kappa':[]}\n",
    "\n",
    "clf_names=['逻辑回归','梯度提升决策树','随机森林','决策树','K-临近','SVM']\n",
    "\n",
    "for clf_name,clf in zip(clf_names,piplines):\n",
    "    \n",
    "    \n",
    "    clf.fit(x_train,y_train)\n",
    "    \n",
    "    print('拟合',clf_name,clf.score(x_train,y_train))\n",
    "    \n",
    "    print('测试',clf_name,clf.score(x_test,y_test))\n",
    "    \n",
    "    y_fit_pre=clf.predict(x_train)\n",
    "\n",
    "    y_pre=clf.predict(x_test)\n",
    "    \n",
    "    output(pipline_fit_score,pipline_test_score,pipline_fit_test_score,kappas_,y_true,y_pre,y_fit_pre,clf_name)\n",
    "\n",
    "ouput2(pipline_fit_score,pipline_test_score,pipline_fit_test_score,kappas_,clf_names)"
   ]
  },
  {
   "cell_type": "code",
   "execution_count": 58,
   "metadata": {
    "collapsed": false
   },
   "outputs": [
    {
     "name": "stdout",
     "output_type": "stream",
     "text": [
      "[0]\ttrain-merror:0.035804\ttest-merror:0.0596\n",
      "[100]\ttrain-merror:0\ttest-merror:0.023277\n",
      "[200]\ttrain-merror:0\ttest-merror:0.021127\n",
      "[300]\ttrain-merror:0\ttest-merror:0.020682\n",
      "[399]\ttrain-merror:0\ttest-merror:0.020756\n"
     ]
    },
    {
     "data": {
      "text/plain": [
       "0.9792438843587843"
      ]
     },
     "execution_count": 58,
     "metadata": {},
     "output_type": "execute_result"
    }
   ],
   "source": [
    "xgb_data_train=xgb.DMatrix(x_train,label=y_train)\n",
    "xgb_data_test=xgb.DMatrix(x_test,label=y_test)\n",
    "params={'max_depth':10,'eta':0.1,'silent':0,'objective':'multi:softmax','num_class':17,'alpha':0.5}\n",
    "bst=xgb.train(params, \n",
    "          xgb_data_train, \n",
    "          num_boost_round=400, \n",
    "          evals=[(xgb_data_train,'train'),(xgb_data_test,'test')], \n",
    "          obj=None, \n",
    "          feval=None, \n",
    "          maximize=False, \n",
    "          early_stopping_rounds=None,\n",
    "          evals_result=None,\n",
    "          verbose_eval=100,\n",
    "          xgb_model=None,\n",
    "          callbacks=None)\n",
    "xgb_data_test=xgb.DMatrix(x_test)\n",
    "y_pre=bst.predict(xgb_data_test)\n",
    "y_true=y_test\n",
    "\n",
    "y_pre=bst.predict(xgb_data_test)\n",
    "y_fit_pre=bst.predict(xgb_data_train)\n",
    "y_true=y_test\n",
    "accuracy_score(y_true,y_pre)\n"
   ]
  },
  {
   "cell_type": "code",
   "execution_count": 59,
   "metadata": {
    "collapsed": false
   },
   "outputs": [
    {
     "name": "stdout",
     "output_type": "stream",
     "text": [
      "正在输出分类器准确率\n",
      "正在输出kappa系数\n"
     ]
    }
   ],
   "source": [
    "clf_name='XGBoost'\n",
    "clf_names.append(clf_name)\n",
    "output(pipline_fit_score,pipline_test_score,pipline_fit_test_score,kappas_,y_true,y_pre,y_fit_pre,clf_name)\n",
    "ouput2(pipline_fit_score,pipline_test_score,pipline_fit_test_score,kappas_,clf_names)"
   ]
  },
  {
   "cell_type": "code",
   "execution_count": 60,
   "metadata": {
    "collapsed": false
   },
   "outputs": [
    {
     "name": "stdout",
     "output_type": "stream",
     "text": [
      "Epoch 1/50\n"
     ]
    },
    {
     "ename": "InternalError",
     "evalue": "GPU sync failed",
     "output_type": "error",
     "traceback": [
      "\u001b[1;31m---------------------------------------------------------------------------\u001b[0m",
      "\u001b[1;31mInternalError\u001b[0m                             Traceback (most recent call last)",
      "\u001b[1;32mC:\\Anaconda3\\lib\\site-packages\\tensorflow\\python\\client\\session.py\u001b[0m in \u001b[0;36m_do_call\u001b[1;34m(self, fn, *args)\u001b[0m\n\u001b[0;32m   1321\u001b[0m     \u001b[1;32mtry\u001b[0m\u001b[1;33m:\u001b[0m\u001b[1;33m\u001b[0m\u001b[0m\n\u001b[1;32m-> 1322\u001b[1;33m       \u001b[1;32mreturn\u001b[0m \u001b[0mfn\u001b[0m\u001b[1;33m(\u001b[0m\u001b[1;33m*\u001b[0m\u001b[0margs\u001b[0m\u001b[1;33m)\u001b[0m\u001b[1;33m\u001b[0m\u001b[0m\n\u001b[0m\u001b[0;32m   1323\u001b[0m     \u001b[1;32mexcept\u001b[0m \u001b[0merrors\u001b[0m\u001b[1;33m.\u001b[0m\u001b[0mOpError\u001b[0m \u001b[1;32mas\u001b[0m \u001b[0me\u001b[0m\u001b[1;33m:\u001b[0m\u001b[1;33m\u001b[0m\u001b[0m\n",
      "\u001b[1;32mC:\\Anaconda3\\lib\\site-packages\\tensorflow\\python\\client\\session.py\u001b[0m in \u001b[0;36m_run_fn\u001b[1;34m(feed_dict, fetch_list, target_list, options, run_metadata)\u001b[0m\n\u001b[0;32m   1306\u001b[0m       return self._call_tf_sessionrun(\n\u001b[1;32m-> 1307\u001b[1;33m           options, feed_dict, fetch_list, target_list, run_metadata)\n\u001b[0m\u001b[0;32m   1308\u001b[0m \u001b[1;33m\u001b[0m\u001b[0m\n",
      "\u001b[1;32mC:\\Anaconda3\\lib\\site-packages\\tensorflow\\python\\client\\session.py\u001b[0m in \u001b[0;36m_call_tf_sessionrun\u001b[1;34m(self, options, feed_dict, fetch_list, target_list, run_metadata)\u001b[0m\n\u001b[0;32m   1408\u001b[0m           \u001b[0mself\u001b[0m\u001b[1;33m.\u001b[0m\u001b[0m_session\u001b[0m\u001b[1;33m,\u001b[0m \u001b[0moptions\u001b[0m\u001b[1;33m,\u001b[0m \u001b[0mfeed_dict\u001b[0m\u001b[1;33m,\u001b[0m \u001b[0mfetch_list\u001b[0m\u001b[1;33m,\u001b[0m \u001b[0mtarget_list\u001b[0m\u001b[1;33m,\u001b[0m\u001b[1;33m\u001b[0m\u001b[0m\n\u001b[1;32m-> 1409\u001b[1;33m           run_metadata)\n\u001b[0m\u001b[0;32m   1410\u001b[0m     \u001b[1;32melse\u001b[0m\u001b[1;33m:\u001b[0m\u001b[1;33m\u001b[0m\u001b[0m\n",
      "\u001b[1;31mInternalError\u001b[0m: GPU sync failed",
      "\nDuring handling of the above exception, another exception occurred:\n",
      "\u001b[1;31mInternalError\u001b[0m                             Traceback (most recent call last)",
      "\u001b[1;32m<ipython-input-60-c266fc8ceb15>\u001b[0m in \u001b[0;36m<module>\u001b[1;34m()\u001b[0m\n\u001b[0;32m     15\u001b[0m \u001b[0moptimizer\u001b[0m\u001b[1;33m=\u001b[0m\u001b[0mSGD\u001b[0m\u001b[1;33m(\u001b[0m\u001b[0mlr\u001b[0m\u001b[1;33m=\u001b[0m\u001b[0mlr\u001b[0m\u001b[1;33m)\u001b[0m\u001b[1;33m\u001b[0m\u001b[0m\n\u001b[0;32m     16\u001b[0m \u001b[0mmodel\u001b[0m\u001b[1;33m.\u001b[0m\u001b[0mcompile\u001b[0m\u001b[1;33m(\u001b[0m\u001b[0mloss\u001b[0m\u001b[1;33m=\u001b[0m\u001b[1;34m'mean_squared_error'\u001b[0m\u001b[1;33m,\u001b[0m\u001b[0moptimizer\u001b[0m\u001b[1;33m=\u001b[0m\u001b[0moptimizer\u001b[0m\u001b[1;33m)\u001b[0m\u001b[1;33m\u001b[0m\u001b[0m\n\u001b[1;32m---> 17\u001b[1;33m \u001b[0mmodel\u001b[0m\u001b[1;33m.\u001b[0m\u001b[0mfit\u001b[0m\u001b[1;33m(\u001b[0m\u001b[0mx_train\u001b[0m\u001b[1;33m,\u001b[0m\u001b[0my_train\u001b[0m\u001b[1;33m,\u001b[0m\u001b[0mepochs\u001b[0m\u001b[1;33m=\u001b[0m\u001b[0mepochs\u001b[0m\u001b[1;33m,\u001b[0m\u001b[0mbatch_size\u001b[0m\u001b[1;33m=\u001b[0m\u001b[0mbatch_size\u001b[0m\u001b[1;33m,\u001b[0m\u001b[0mverbose\u001b[0m\u001b[1;33m=\u001b[0m\u001b[1;36m1\u001b[0m\u001b[1;33m)\u001b[0m\u001b[1;33m\u001b[0m\u001b[0m\n\u001b[0m\u001b[0;32m     18\u001b[0m \u001b[1;33m\u001b[0m\u001b[0m\n\u001b[0;32m     19\u001b[0m \u001b[0my_pre\u001b[0m\u001b[1;33m=\u001b[0m\u001b[0mmodel\u001b[0m\u001b[1;33m.\u001b[0m\u001b[0mpredict_classes\u001b[0m\u001b[1;33m(\u001b[0m\u001b[0mx_test\u001b[0m\u001b[1;33m,\u001b[0m \u001b[0mbatch_size\u001b[0m\u001b[1;33m=\u001b[0m\u001b[0mbatch_size\u001b[0m\u001b[1;33m)\u001b[0m\u001b[1;33m\u001b[0m\u001b[0m\n",
      "\u001b[1;32mC:\\Anaconda3\\lib\\site-packages\\keras\\engine\\training.py\u001b[0m in \u001b[0;36mfit\u001b[1;34m(self, x, y, batch_size, epochs, verbose, callbacks, validation_split, validation_data, shuffle, class_weight, sample_weight, initial_epoch, steps_per_epoch, validation_steps, **kwargs)\u001b[0m\n\u001b[0;32m   1040\u001b[0m                                         \u001b[0minitial_epoch\u001b[0m\u001b[1;33m=\u001b[0m\u001b[0minitial_epoch\u001b[0m\u001b[1;33m,\u001b[0m\u001b[1;33m\u001b[0m\u001b[0m\n\u001b[0;32m   1041\u001b[0m                                         \u001b[0msteps_per_epoch\u001b[0m\u001b[1;33m=\u001b[0m\u001b[0msteps_per_epoch\u001b[0m\u001b[1;33m,\u001b[0m\u001b[1;33m\u001b[0m\u001b[0m\n\u001b[1;32m-> 1042\u001b[1;33m                                         validation_steps=validation_steps)\n\u001b[0m\u001b[0;32m   1043\u001b[0m \u001b[1;33m\u001b[0m\u001b[0m\n\u001b[0;32m   1044\u001b[0m     def evaluate(self, x=None, y=None,\n",
      "\u001b[1;32mC:\\Anaconda3\\lib\\site-packages\\keras\\engine\\training_arrays.py\u001b[0m in \u001b[0;36mfit_loop\u001b[1;34m(model, f, ins, out_labels, batch_size, epochs, verbose, callbacks, val_f, val_ins, shuffle, callback_metrics, initial_epoch, steps_per_epoch, validation_steps)\u001b[0m\n\u001b[0;32m    197\u001b[0m                     \u001b[0mins_batch\u001b[0m\u001b[1;33m[\u001b[0m\u001b[0mi\u001b[0m\u001b[1;33m]\u001b[0m \u001b[1;33m=\u001b[0m \u001b[0mins_batch\u001b[0m\u001b[1;33m[\u001b[0m\u001b[0mi\u001b[0m\u001b[1;33m]\u001b[0m\u001b[1;33m.\u001b[0m\u001b[0mtoarray\u001b[0m\u001b[1;33m(\u001b[0m\u001b[1;33m)\u001b[0m\u001b[1;33m\u001b[0m\u001b[0m\n\u001b[0;32m    198\u001b[0m \u001b[1;33m\u001b[0m\u001b[0m\n\u001b[1;32m--> 199\u001b[1;33m                 \u001b[0mouts\u001b[0m \u001b[1;33m=\u001b[0m \u001b[0mf\u001b[0m\u001b[1;33m(\u001b[0m\u001b[0mins_batch\u001b[0m\u001b[1;33m)\u001b[0m\u001b[1;33m\u001b[0m\u001b[0m\n\u001b[0m\u001b[0;32m    200\u001b[0m                 \u001b[1;32mif\u001b[0m \u001b[1;32mnot\u001b[0m \u001b[0misinstance\u001b[0m\u001b[1;33m(\u001b[0m\u001b[0mouts\u001b[0m\u001b[1;33m,\u001b[0m \u001b[0mlist\u001b[0m\u001b[1;33m)\u001b[0m\u001b[1;33m:\u001b[0m\u001b[1;33m\u001b[0m\u001b[0m\n\u001b[0;32m    201\u001b[0m                     \u001b[0mouts\u001b[0m \u001b[1;33m=\u001b[0m \u001b[1;33m[\u001b[0m\u001b[0mouts\u001b[0m\u001b[1;33m]\u001b[0m\u001b[1;33m\u001b[0m\u001b[0m\n",
      "\u001b[1;32mC:\\Anaconda3\\lib\\site-packages\\keras\\backend\\tensorflow_backend.py\u001b[0m in \u001b[0;36m__call__\u001b[1;34m(self, inputs)\u001b[0m\n\u001b[0;32m   2651\u001b[0m \u001b[1;33m\u001b[0m\u001b[0m\n\u001b[0;32m   2652\u001b[0m     \u001b[1;32mdef\u001b[0m \u001b[0m__call__\u001b[0m\u001b[1;33m(\u001b[0m\u001b[0mself\u001b[0m\u001b[1;33m,\u001b[0m \u001b[0minputs\u001b[0m\u001b[1;33m)\u001b[0m\u001b[1;33m:\u001b[0m\u001b[1;33m\u001b[0m\u001b[0m\n\u001b[1;32m-> 2653\u001b[1;33m         \u001b[1;32mif\u001b[0m \u001b[0mhasattr\u001b[0m\u001b[1;33m(\u001b[0m\u001b[0mget_session\u001b[0m\u001b[1;33m(\u001b[0m\u001b[1;33m)\u001b[0m\u001b[1;33m,\u001b[0m \u001b[1;34m'_make_callable_from_options'\u001b[0m\u001b[1;33m)\u001b[0m\u001b[1;33m:\u001b[0m\u001b[1;33m\u001b[0m\u001b[0m\n\u001b[0m\u001b[0;32m   2654\u001b[0m             \u001b[1;32mif\u001b[0m \u001b[0mpy_any\u001b[0m\u001b[1;33m(\u001b[0m\u001b[0mis_sparse\u001b[0m\u001b[1;33m(\u001b[0m\u001b[0mx\u001b[0m\u001b[1;33m)\u001b[0m \u001b[1;32mfor\u001b[0m \u001b[0mx\u001b[0m \u001b[1;32min\u001b[0m \u001b[0mself\u001b[0m\u001b[1;33m.\u001b[0m\u001b[0minputs\u001b[0m\u001b[1;33m)\u001b[0m\u001b[1;33m:\u001b[0m\u001b[1;33m\u001b[0m\u001b[0m\n\u001b[0;32m   2655\u001b[0m                 \u001b[1;32mif\u001b[0m \u001b[0mpy_any\u001b[0m\u001b[1;33m(\u001b[0m\u001b[0mis_tensor\u001b[0m\u001b[1;33m(\u001b[0m\u001b[0mx\u001b[0m\u001b[1;33m)\u001b[0m \u001b[1;32mfor\u001b[0m \u001b[0mx\u001b[0m \u001b[1;32min\u001b[0m \u001b[0minputs\u001b[0m\u001b[1;33m)\u001b[0m\u001b[1;33m:\u001b[0m\u001b[1;33m\u001b[0m\u001b[0m\n",
      "\u001b[1;32mC:\\Anaconda3\\lib\\site-packages\\keras\\backend\\tensorflow_backend.py\u001b[0m in \u001b[0;36mget_session\u001b[1;34m()\u001b[0m\n\u001b[0;32m    194\u001b[0m                 \u001b[1;31m# not already marked as initialized.\u001b[0m\u001b[1;33m\u001b[0m\u001b[1;33m\u001b[0m\u001b[0m\n\u001b[0;32m    195\u001b[0m                 is_initialized = session.run(\n\u001b[1;32m--> 196\u001b[1;33m                     [tf.is_variable_initialized(v) for v in candidate_vars])\n\u001b[0m\u001b[0;32m    197\u001b[0m                 \u001b[0muninitialized_vars\u001b[0m \u001b[1;33m=\u001b[0m \u001b[1;33m[\u001b[0m\u001b[1;33m]\u001b[0m\u001b[1;33m\u001b[0m\u001b[0m\n\u001b[0;32m    198\u001b[0m                 \u001b[1;32mfor\u001b[0m \u001b[0mflag\u001b[0m\u001b[1;33m,\u001b[0m \u001b[0mv\u001b[0m \u001b[1;32min\u001b[0m \u001b[0mzip\u001b[0m\u001b[1;33m(\u001b[0m\u001b[0mis_initialized\u001b[0m\u001b[1;33m,\u001b[0m \u001b[0mcandidate_vars\u001b[0m\u001b[1;33m)\u001b[0m\u001b[1;33m:\u001b[0m\u001b[1;33m\u001b[0m\u001b[0m\n",
      "\u001b[1;32mC:\\Anaconda3\\lib\\site-packages\\tensorflow\\python\\client\\session.py\u001b[0m in \u001b[0;36mrun\u001b[1;34m(self, fetches, feed_dict, options, run_metadata)\u001b[0m\n\u001b[0;32m    898\u001b[0m     \u001b[1;32mtry\u001b[0m\u001b[1;33m:\u001b[0m\u001b[1;33m\u001b[0m\u001b[0m\n\u001b[0;32m    899\u001b[0m       result = self._run(None, fetches, feed_dict, options_ptr,\n\u001b[1;32m--> 900\u001b[1;33m                          run_metadata_ptr)\n\u001b[0m\u001b[0;32m    901\u001b[0m       \u001b[1;32mif\u001b[0m \u001b[0mrun_metadata\u001b[0m\u001b[1;33m:\u001b[0m\u001b[1;33m\u001b[0m\u001b[0m\n\u001b[0;32m    902\u001b[0m         \u001b[0mproto_data\u001b[0m \u001b[1;33m=\u001b[0m \u001b[0mtf_session\u001b[0m\u001b[1;33m.\u001b[0m\u001b[0mTF_GetBuffer\u001b[0m\u001b[1;33m(\u001b[0m\u001b[0mrun_metadata_ptr\u001b[0m\u001b[1;33m)\u001b[0m\u001b[1;33m\u001b[0m\u001b[0m\n",
      "\u001b[1;32mC:\\Anaconda3\\lib\\site-packages\\tensorflow\\python\\client\\session.py\u001b[0m in \u001b[0;36m_run\u001b[1;34m(self, handle, fetches, feed_dict, options, run_metadata)\u001b[0m\n\u001b[0;32m   1133\u001b[0m     \u001b[1;32mif\u001b[0m \u001b[0mfinal_fetches\u001b[0m \u001b[1;32mor\u001b[0m \u001b[0mfinal_targets\u001b[0m \u001b[1;32mor\u001b[0m \u001b[1;33m(\u001b[0m\u001b[0mhandle\u001b[0m \u001b[1;32mand\u001b[0m \u001b[0mfeed_dict_tensor\u001b[0m\u001b[1;33m)\u001b[0m\u001b[1;33m:\u001b[0m\u001b[1;33m\u001b[0m\u001b[0m\n\u001b[0;32m   1134\u001b[0m       results = self._do_run(handle, final_targets, final_fetches,\n\u001b[1;32m-> 1135\u001b[1;33m                              feed_dict_tensor, options, run_metadata)\n\u001b[0m\u001b[0;32m   1136\u001b[0m     \u001b[1;32melse\u001b[0m\u001b[1;33m:\u001b[0m\u001b[1;33m\u001b[0m\u001b[0m\n\u001b[0;32m   1137\u001b[0m       \u001b[0mresults\u001b[0m \u001b[1;33m=\u001b[0m \u001b[1;33m[\u001b[0m\u001b[1;33m]\u001b[0m\u001b[1;33m\u001b[0m\u001b[0m\n",
      "\u001b[1;32mC:\\Anaconda3\\lib\\site-packages\\tensorflow\\python\\client\\session.py\u001b[0m in \u001b[0;36m_do_run\u001b[1;34m(self, handle, target_list, fetch_list, feed_dict, options, run_metadata)\u001b[0m\n\u001b[0;32m   1314\u001b[0m     \u001b[1;32mif\u001b[0m \u001b[0mhandle\u001b[0m \u001b[1;32mis\u001b[0m \u001b[1;32mNone\u001b[0m\u001b[1;33m:\u001b[0m\u001b[1;33m\u001b[0m\u001b[0m\n\u001b[0;32m   1315\u001b[0m       return self._do_call(_run_fn, feeds, fetches, targets, options,\n\u001b[1;32m-> 1316\u001b[1;33m                            run_metadata)\n\u001b[0m\u001b[0;32m   1317\u001b[0m     \u001b[1;32melse\u001b[0m\u001b[1;33m:\u001b[0m\u001b[1;33m\u001b[0m\u001b[0m\n\u001b[0;32m   1318\u001b[0m       \u001b[1;32mreturn\u001b[0m \u001b[0mself\u001b[0m\u001b[1;33m.\u001b[0m\u001b[0m_do_call\u001b[0m\u001b[1;33m(\u001b[0m\u001b[0m_prun_fn\u001b[0m\u001b[1;33m,\u001b[0m \u001b[0mhandle\u001b[0m\u001b[1;33m,\u001b[0m \u001b[0mfeeds\u001b[0m\u001b[1;33m,\u001b[0m \u001b[0mfetches\u001b[0m\u001b[1;33m)\u001b[0m\u001b[1;33m\u001b[0m\u001b[0m\n",
      "\u001b[1;32mC:\\Anaconda3\\lib\\site-packages\\tensorflow\\python\\client\\session.py\u001b[0m in \u001b[0;36m_do_call\u001b[1;34m(self, fn, *args)\u001b[0m\n\u001b[0;32m   1333\u001b[0m         \u001b[1;32mexcept\u001b[0m \u001b[0mKeyError\u001b[0m\u001b[1;33m:\u001b[0m\u001b[1;33m\u001b[0m\u001b[0m\n\u001b[0;32m   1334\u001b[0m           \u001b[1;32mpass\u001b[0m\u001b[1;33m\u001b[0m\u001b[0m\n\u001b[1;32m-> 1335\u001b[1;33m       \u001b[1;32mraise\u001b[0m \u001b[0mtype\u001b[0m\u001b[1;33m(\u001b[0m\u001b[0me\u001b[0m\u001b[1;33m)\u001b[0m\u001b[1;33m(\u001b[0m\u001b[0mnode_def\u001b[0m\u001b[1;33m,\u001b[0m \u001b[0mop\u001b[0m\u001b[1;33m,\u001b[0m \u001b[0mmessage\u001b[0m\u001b[1;33m)\u001b[0m\u001b[1;33m\u001b[0m\u001b[0m\n\u001b[0m\u001b[0;32m   1336\u001b[0m \u001b[1;33m\u001b[0m\u001b[0m\n\u001b[0;32m   1337\u001b[0m   \u001b[1;32mdef\u001b[0m \u001b[0m_extend_graph\u001b[0m\u001b[1;33m(\u001b[0m\u001b[0mself\u001b[0m\u001b[1;33m)\u001b[0m\u001b[1;33m:\u001b[0m\u001b[1;33m\u001b[0m\u001b[0m\n",
      "\u001b[1;31mInternalError\u001b[0m: GPU sync failed"
     ]
    }
   ],
   "source": [
    "i=6\n",
    "input_dim=x_train.shape[1]\n",
    "output_dim=len(set(y_train.tolist()))\n",
    "batch_size=16\n",
    "lr=0.1\n",
    "epochs=50\n",
    "hidden_num = input_dim*i\n",
    "hidden_num_2 = output_dim*i\n",
    "ohe = OneHotEncoder()\n",
    "y_train=ohe.fit_transform(np.matrix(y_train.values).T).toarray()\n",
    "model=Sequential()\n",
    "model.add(Dense(input_dim=input_dim,units=hidden_num))\n",
    "model.add(Activation('relu'))\n",
    "model.add(Dense(input_dim=hidden_num_2,units=output_dim))\n",
    "optimizer=SGD(lr=lr)\n",
    "model.compile(loss='mean_squared_error',optimizer=optimizer)\n",
    "model.fit(x_train,y_train,epochs=epochs,batch_size=batch_size,verbose=1)\n",
    "\n",
    "y_pre=model.predict_classes(x_test, batch_size=batch_size)\n",
    "y_fit_pre=model.predict_classes(x_train, batch_size=batch_size)\n",
    "\n",
    "y_true=y_test\n",
    "y_pre=y_pre+1\n",
    "y_fit_pre=y_fit_pre+1\n"
   ]
  },
  {
   "cell_type": "code",
   "execution_count": null,
   "metadata": {
    "collapsed": false
   },
   "outputs": [],
   "source": [
    "clf_name='NN'\n",
    "clf_names.append(clf_name)\n",
    "output(pipline_fit_score,pipline_test_score,pipline_fit_test_score,kappas_,y_true,y_pre,y_fit_pre,clf_name)\n",
    "ouput2(pipline_fit_score,pipline_test_score,pipline_fit_test_score,kappas_,clf_names)"
   ]
  },
  {
   "cell_type": "markdown",
   "metadata": {},
   "source": [
    "# 输出部分"
   ]
  },
  {
   "cell_type": "markdown",
   "metadata": {},
   "source": [
    "交叉矩阵(准确率、召回率,F1)"
   ]
  },
  {
   "cell_type": "markdown",
   "metadata": {},
   "source": [
    "kappa系数\n",
    "准确率\n",
    "kappa计算结果为-1~1，但通常kappa是落在 0~1 间，可分为五组来表示不同级别的一致性：\n",
    "0.0~0.20极低的一致性(slight)、\n",
    "0.21~0.40一般的一致性(fair)、\n",
    "0.41~0.60 中等的一致性(moderate)、\n",
    "0.61~0.80 高度的一致性(substantial)\n",
    "0.81~1几乎完全一致(almost perfect)。\n"
   ]
  },
  {
   "cell_type": "markdown",
   "metadata": {},
   "source": [
    "losss下降过程(运算时间)"
   ]
  },
  {
   "cell_type": "markdown",
   "metadata": {},
   "source": [
    "错的点的坐标"
   ]
  },
  {
   "cell_type": "markdown",
   "metadata": {},
   "source": [
    "预测值的输出"
   ]
  },
  {
   "cell_type": "markdown",
   "metadata": {},
   "source": [
    "神经网络层数图片"
   ]
  },
  {
   "cell_type": "markdown",
   "metadata": {},
   "source": [
    "学习曲线"
   ]
  },
  {
   "cell_type": "code",
   "execution_count": null,
   "metadata": {
    "collapsed": true
   },
   "outputs": [],
   "source": []
  }
 ],
 "metadata": {
  "kernelspec": {
   "display_name": "Python 3",
   "language": "python",
   "name": "python3"
  },
  "language_info": {
   "codemirror_mode": {
    "name": "ipython",
    "version": 3
   },
   "file_extension": ".py",
   "mimetype": "text/x-python",
   "name": "python",
   "nbconvert_exporter": "python",
   "pygments_lexer": "ipython3",
   "version": "3.5.1"
  }
 },
 "nbformat": 4,
 "nbformat_minor": 0
}
