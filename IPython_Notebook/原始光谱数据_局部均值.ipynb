{
 "cells": [
  {
   "cell_type": "code",
   "execution_count": 1,
   "metadata": {
    "collapsed": false
   },
   "outputs": [
    {
     "name": "stderr",
     "output_type": "stream",
     "text": [
      "C:\\Anaconda3\\lib\\site-packages\\sklearn\\ensemble\\weight_boosting.py:29: DeprecationWarning: numpy.core.umath_tests is an internal NumPy module and should not be imported. It will be removed in a future NumPy release.\n",
      "  from numpy.core.umath_tests import inner1d\n",
      "Using TensorFlow backend.\n"
     ]
    }
   ],
   "source": [
    "#-------------------基础工具------------------------------\n",
    "import pandas as pd\n",
    "import numpy as np\n",
    "import matplotlib.pyplot as plt\n",
    "import scipy\n",
    "import scipy.signal\n",
    "import time\n",
    "import os\n",
    "#------------------sklearn-------------------------------\n",
    "from sklearn.cluster import k_means\n",
    "from sklearn.linear_model import LogisticRegression\n",
    "from sklearn.neighbors import KNeighborsClassifier\n",
    "from sklearn.ensemble import AdaBoostClassifier\n",
    "from sklearn.ensemble import GradientBoostingClassifier\n",
    "from sklearn.ensemble import RandomForestClassifier\n",
    "from sklearn.preprocessing import StandardScaler\n",
    "from sklearn.preprocessing import OneHotEncoder\n",
    "from sklearn.metrics import accuracy_score\n",
    "from sklearn.metrics import confusion_matrix\n",
    "from sklearn.svm import SVC\n",
    "from sklearn.manifold import t_sne\n",
    "import  sklearn.learning_curve \n",
    "from sklearn.tree import DecisionTreeClassifier\n",
    "\n",
    "#------------------keras --------------------------------\n",
    "from keras.utils import plot_model\n",
    "from keras.layers import Dropout\n",
    "import keras \n",
    "from keras.layers import Dense\n",
    "from keras.layers import Activation\n",
    "from keras.layers import Conv1D\n",
    "from keras.layers import Conv2D\n",
    "from keras.layers import Flatten\n",
    "from keras.layers import MaxPool2D\n",
    "\n",
    "from keras.optimizers import SGD\n",
    "from keras.optimizers import Adam\n",
    "from keras import Sequential\n",
    "\n",
    "\n",
    "#-----------------xgboost----------------------------\n",
    "\n",
    "import xgboost as xgb\n",
    "\n",
    "#---------------------参数设置----------------------------\n",
    "%matplotlib inline\n",
    "#CPU还是GPU\n",
    "import copy\n",
    "namespace='原始特征抽样_局部均值'\n",
    "name_path='原始特征抽样_局部均值/'"
   ]
  },
  {
   "cell_type": "code",
   "execution_count": 2,
   "metadata": {
    "collapsed": false
   },
   "outputs": [],
   "source": [
    "def calc_kappa(y_true,y_pre):\n",
    "    p0=0\n",
    "    pe=0\n",
    "    confux_m=confusion_matrix(y_true,y_pre)\n",
    "    confux_m_sum=confux_m.sum()\n",
    "    for i in range(len(confux_m)):\n",
    "        p0+=confux_m[i][i]\n",
    "        pe+=((confux_m[:,i]).sum())*((confux_m[i,:]).sum())\n",
    "    p0=p0/confux_m_sum\n",
    "    pe=pe/(confux_m_sum*confux_m_sum)\n",
    "    kappa=(p0-pe)/(1-pe)\n",
    "    return kappa"
   ]
  },
  {
   "cell_type": "code",
   "execution_count": 3,
   "metadata": {
    "collapsed": true
   },
   "outputs": [],
   "source": [
    "def conv_custom_1(data,columns,kernel,op='arg'):\n",
    "    columns=data.columns[2:-1].tolist()\n",
    "    label_img=data['type'].values.reshape(256,108)\n",
    "    for col in columns:\n",
    "        var_img=data[col].values.reshape(256,108)\n",
    "        con_var_img=np.zeros((258,110))\n",
    "        con_label_img=np.ndarray(shape=(258,110),dtype=np.int32)\n",
    "        con_label_img[:,:]=-1\n",
    "        con_re=np.zeros((256,108))\n",
    "        for i in range(256):\n",
    "            for j in range(108):\n",
    "                con_var_img[i+1][j+1]=var_img[i][j]\n",
    "                con_label_img[i+1][j+1]=label_img[i][j]\n",
    "        for i in range(1,257):\n",
    "            for j in range(1,109):\n",
    "                center=con_label_img[i][j]\n",
    "                label_map=con_label_img[i-1:i+2,j-1:j+2]\n",
    "                label_filter=(label_map==center)\n",
    "                \n",
    "                con_re[i-1][j-1]=(((con_var_img[i-1:i+2,j-1:j+2][label_filter])*(kernel[label_filter])).sum())\n",
    "                                 \n",
    "        if op=='arg':\n",
    "            data[col+'_arg']=con_re.flatten()\n",
    "        elif op=='var':\n",
    "            data[col+'_var']=con_re.flatten()"
   ]
  },
  {
   "cell_type": "code",
   "execution_count": 4,
   "metadata": {
    "collapsed": false
   },
   "outputs": [],
   "source": [
    "def output(pipline_fit_score,pipline_test_score,pipline_fit_test_score,kappas_,y_true,y_pre,y_fit_pre,clf_name):\n",
    "\n",
    "\n",
    "    if  not (os.path.exists(name_path+clf_name)):\n",
    "\n",
    "        os.mkdir(name_path+clf_name)\n",
    "\n",
    "\n",
    "    pipline_fit_score['accuracy'].append(accuracy_score(y_true,y_fit_pre))\n",
    "\n",
    "    pipline_test_score['accuracy'].append(accuracy_score(y_true,y_pre))\n",
    "\n",
    "    kappas_['kappa'].append(calc_kappa(y_true,y_pre))\n",
    "\n",
    "    pipline_fit_test_score['fit-accuracy'].append(accuracy_score(y_true,y_fit_pre))\n",
    "\n",
    "    pipline_fit_test_score['test-accuracy'].append(accuracy_score(y_true,y_pre))\n",
    "\n",
    "    pd.DataFrame(confusion_matrix(y_true,y_pre),index=range(1,17),columns=range(1,17)).to_csv(name_path+clf_name+'/'+clf_name+'_confux_matrix.csv')  \n",
    "\n",
    "    Salinas_df5_raw[y_true!=y_pre][['row','col']].to_csv(name_path+clf_name+'/false_loc.csv',index=None,columns=None)\n",
    "\n",
    "    Salinas_df5_raw['pre_type']=y_pre\n",
    "    \n",
    "    #np.savetxt(clf_name+'_pre_label.grd', y_pre.reshape(256,108),fmt='%d')\n",
    "\n",
    "    Salinas_df5_raw[['row','col','pre_type']].to_csv( name_path+clf_name+'/_pre.csv')\n"
   ]
  },
  {
   "cell_type": "code",
   "execution_count": 5,
   "metadata": {
    "collapsed": false
   },
   "outputs": [],
   "source": [
    "def ouput2(pipline_fit_score,pipline_test_score,pipline_fit_test_score,kappas_,clf_names):\n",
    "    \n",
    "    if not (os.path.exists(name_path+'统计量')):\n",
    "        \n",
    "        os.mkdir(name_path+'统计量')\n",
    "    \n",
    "    print('正在输出分类器准确率')\n",
    "\n",
    "    pd.DataFrame(pipline_fit_score,index=clf_names).sort_values(by='accuracy').to_csv(name_path+'统计量/fit_accuracy.csv')\n",
    "    pd.DataFrame(pipline_test_score,index=clf_names).sort_values(by='accuracy').to_csv(name_path+'统计量/test_accuracy.csv')\n",
    "    pd.DataFrame(pipline_fit_test_score,index=clf_names).to_csv(name_path+'统计量/fit_test_accuracy.csv')\n",
    "\n",
    "    print('正在输出kappa系数')\n",
    "\n",
    "    pd.DataFrame(kappas_,index=clf_names).sort_values(by='kappa').to_csv(name_path+'统计量/kappa.csv')"
   ]
  },
  {
   "cell_type": "markdown",
   "metadata": {},
   "source": [
    "数据的导入，切分，标准化"
   ]
  },
  {
   "cell_type": "code",
   "execution_count": 6,
   "metadata": {
    "collapsed": false
   },
   "outputs": [
    {
     "name": "stdout",
     "output_type": "stream",
     "text": [
      "训练集维度： (27648, 27) 训练集变量: ['V4', 'V12', 'V20', 'V28', 'V36', 'V44', 'V52', 'V60', 'V68', 'V76', 'V84', 'V92', 'V100', 'V108', 'V116', 'V124', 'V132', 'V140', 'V148', 'V156', 'V164', 'V172', 'V180', 'V188']\n",
      "测试集维度： (27648, 27) 测试集变量: ['V5', 'V13', 'V21', 'V29', 'V37', 'V45', 'V53', 'V61', 'V69', 'V77', 'V85', 'V93', 'V101', 'V109', 'V117', 'V125', 'V133', 'V141', 'V149', 'V157', 'V165', 'V173', 'V181', 'V189']\n"
     ]
    },
    {
     "data": {
      "text/plain": [
       "<matplotlib.axes._subplots.AxesSubplot at 0x250f1418be0>"
      ]
     },
     "execution_count": 6,
     "metadata": {},
     "output_type": "execute_result"
    },
    {
     "data": {
      "image/png": "[encoded data removed]",
      "text/plain": [
       "<matplotlib.figure.Figure at 0x250f1418160>"
      ]
     },
     "metadata": {},
     "output_type": "display_data"
    }
   ],
   "source": [
    "Salinas_df4_raw=pd.read_csv('Salinas_bandselect/SalinasResize_FCwithRC_No_4.txt',delimiter='\\t',index_col=False)\n",
    "Salinas_df5_raw=pd.read_csv('Salinas_bandselect/SalinasResize_FCwithRC_No_5.txt',delimiter='\\t',index_col=False)\n",
    "df4_columns=Salinas_df4_raw.columns[2:-1].tolist()\n",
    "df5_columns=Salinas_df5_raw.columns[2:-1].tolist()\n",
    "print('训练集维度：',Salinas_df4_raw.shape,'训练集变量:',df4_columns)\n",
    "print('测试集维度：',Salinas_df5_raw.shape,'测试集变量:',df5_columns)\n",
    "\n",
    "#---------------------------------------------------------\n",
    "kernel=np.ones((3,3))/9\n",
    "conv_custom_1(Salinas_df4_raw,df4_columns,kernel,op='arg')\n",
    "conv_custom_1(Salinas_df5_raw,df5_columns,kernel,op='arg')\n",
    "#----------------------------------------------------------\n",
    "\n",
    "\n",
    "\n",
    "Salinas_df4_raw=Salinas_df4_raw[Salinas_df4_raw.type!=0]\n",
    "Salinas_df5_raw=Salinas_df5_raw[Salinas_df5_raw.type!=0]\n",
    "Salinas_df4=copy.deepcopy(Salinas_df4_raw)\n",
    "Salinas_df5=copy.deepcopy(Salinas_df5_raw)\n",
    "std=StandardScaler()\n",
    "Salinas_df4.pop('row')\n",
    "Salinas_df4.pop('col')\n",
    "y_train=Salinas_df4.pop('type')\n",
    "x_train=Salinas_df4\n",
    "x_train=std.fit_transform(x_train)\n",
    "Salinas_df5.pop('row')\n",
    "Salinas_df5.pop('col')\n",
    "y_test=Salinas_df5.pop('type')\n",
    "x_test=Salinas_df5\n",
    "x_test=std.fit_transform(x_test)\n",
    "y_true=y_test\n",
    "y_train.value_counts().plot(kind='bar')"
   ]
  },
  {
   "cell_type": "code",
   "execution_count": 7,
   "metadata": {
    "collapsed": false
   },
   "outputs": [
    {
     "name": "stdout",
     "output_type": "stream",
     "text": [
      "拟合 逻辑回归 0.9148257968865826\n",
      "测试 逻辑回归 0.9099332839140104\n",
      "拟合 梯度提升决策树 0.9806523350630096\n",
      "测试 梯度提升决策树 0.9455151964418087\n",
      "拟合 随机森林 0.9969607116382505\n",
      "测试 随机森林 0.9603409933283914\n",
      "拟合 决策树 1.0\n",
      "测试 决策树 0.9194959229058562\n",
      "拟合 K-临近 0.9487768717568569\n",
      "测试 K-临近 0.9455151964418087\n",
      "拟合 SVM 0.9213491475166791\n",
      "测试 SVM 0.9195700518902891\n",
      "正在输出分类器准确率\n",
      "正在输出kappa系数\n"
     ]
    }
   ],
   "source": [
    "if not (os.path.exists(namespace)):\n",
    "    os.mkdir(namespace)\n",
    "\n",
    "piplines=[LogisticRegression(),GradientBoostingClassifier(),RandomForestClassifier(),DecisionTreeClassifier(),KNeighborsClassifier(),SVC()]\n",
    "pipline_fit_score={'accuracy':[]}\n",
    "pipline_test_score={'accuracy':[]}\n",
    "pipline_fit_test_score={'fit-accuracy':[],'test-accuracy':[]}\n",
    "kappas_={'kappa':[]}\n",
    "\n",
    "clf_names=['逻辑回归','梯度提升决策树','随机森林','决策树','K-临近','SVM']\n",
    "\n",
    "for clf_name,clf in zip(clf_names,piplines):\n",
    "    \n",
    "    \n",
    "    clf.fit(x_train,y_train)\n",
    "    \n",
    "    print('拟合',clf_name,clf.score(x_train,y_train))\n",
    "    \n",
    "    print('测试',clf_name,clf.score(x_test,y_test))\n",
    "    \n",
    "    y_fit_pre=clf.predict(x_train)\n",
    "\n",
    "    y_pre=clf.predict(x_test)\n",
    "    \n",
    "    output(pipline_fit_score,pipline_test_score,pipline_fit_test_score,kappas_,y_true,y_pre,y_fit_pre,clf_name)\n",
    "\n",
    "ouput2(pipline_fit_score,pipline_test_score,pipline_fit_test_score,kappas_,clf_names)"
   ]
  },
  {
   "cell_type": "code",
   "execution_count": 8,
   "metadata": {
    "collapsed": false
   },
   "outputs": [
    {
     "name": "stdout",
     "output_type": "stream",
     "text": [
      "[0]\ttrain-merror:0.050037\ttest-merror:0.082654\n",
      "[100]\ttrain-merror:0\ttest-merror:0.034841\n",
      "[200]\ttrain-merror:0\ttest-merror:0.032617\n",
      "[300]\ttrain-merror:0\ttest-merror:0.031875\n",
      "[399]\ttrain-merror:0\ttest-merror:0.032098\n"
     ]
    },
    {
     "data": {
      "text/plain": [
       "0.9679021497405486"
      ]
     },
     "execution_count": 8,
     "metadata": {},
     "output_type": "execute_result"
    }
   ],
   "source": [
    "xgb_data_train=xgb.DMatrix(x_train,label=y_train)\n",
    "xgb_data_test=xgb.DMatrix(x_test,label=y_test)\n",
    "params={'max_depth':10,'eta':0.1,'silent':0,'objective':'multi:softmax','num_class':17,'alpha':0.5}\n",
    "bst=xgb.train(params, \n",
    "          xgb_data_train, \n",
    "          num_boost_round=400, \n",
    "          evals=[(xgb_data_train,'train'),(xgb_data_test,'test')], \n",
    "          obj=None, \n",
    "          feval=None, \n",
    "          maximize=False, \n",
    "          early_stopping_rounds=None,\n",
    "          evals_result=None,\n",
    "          verbose_eval=100,\n",
    "          xgb_model=None,\n",
    "          callbacks=None)\n",
    "xgb_data_test=xgb.DMatrix(x_test)\n",
    "y_pre=bst.predict(xgb_data_test)\n",
    "y_true=y_test\n",
    "\n",
    "y_pre=bst.predict(xgb_data_test)\n",
    "y_fit_pre=bst.predict(xgb_data_train)\n",
    "y_true=y_test\n",
    "accuracy_score(y_true,y_pre)\n"
   ]
  },
  {
   "cell_type": "code",
   "execution_count": 9,
   "metadata": {
    "collapsed": false
   },
   "outputs": [
    {
     "name": "stdout",
     "output_type": "stream",
     "text": [
      "正在输出分类器准确率\n",
      "正在输出kappa系数\n"
     ]
    }
   ],
   "source": [
    "clf_name='XGBoost'\n",
    "clf_names.append(clf_name)\n",
    "output(pipline_fit_score,pipline_test_score,pipline_fit_test_score,kappas_,y_true,y_pre,y_fit_pre,clf_name)\n",
    "ouput2(pipline_fit_score,pipline_test_score,pipline_fit_test_score,kappas_,clf_names)"
   ]
  },
  {
   "cell_type": "code",
   "execution_count": 10,
   "metadata": {
    "collapsed": false
   },
   "outputs": [
    {
     "name": "stdout",
     "output_type": "stream",
     "text": [
      "Epoch 1/50\n",
      "13490/13490 [==============================] - 3s 215us/step - loss: 0.0303\n",
      "Epoch 2/50\n",
      "13490/13490 [==============================] - 2s 113us/step - loss: 0.0215\n",
      "Epoch 3/50\n",
      "13490/13490 [==============================] - 2s 114us/step - loss: 0.0190\n",
      "Epoch 4/50\n",
      "13490/13490 [==============================] - 2s 115us/step - loss: 0.0175\n",
      "Epoch 5/50\n",
      "13490/13490 [==============================] - 1s 111us/step - loss: 0.0162\n",
      "Epoch 6/50\n",
      "13490/13490 [==============================] - 2s 114us/step - loss: 0.0154\n",
      "Epoch 7/50\n",
      "13490/13490 [==============================] - 2s 112us/step - loss: 0.0147\n",
      "Epoch 8/50\n",
      "13490/13490 [==============================] - 2s 112us/step - loss: 0.0140\n",
      "Epoch 9/50\n",
      "13490/13490 [==============================] - 1s 109us/step - loss: 0.0136\n",
      "Epoch 10/50\n",
      "13490/13490 [==============================] - 1s 111us/step - loss: 0.0131\n",
      "Epoch 11/50\n",
      "13490/13490 [==============================] - 2s 112us/step - loss: 0.0127\n",
      "Epoch 12/50\n",
      "13490/13490 [==============================] - 1s 111us/step - loss: 0.0123\n",
      "Epoch 13/50\n",
      "13490/13490 [==============================] - 2s 114us/step - loss: 0.0120\n",
      "Epoch 14/50\n",
      "13490/13490 [==============================] - 2s 113us/step - loss: 0.0117\n",
      "Epoch 15/50\n",
      "13490/13490 [==============================] - 1s 107us/step - loss: 0.0115\n",
      "Epoch 16/50\n",
      "13490/13490 [==============================] - 2s 112us/step - loss: 0.0112\n",
      "Epoch 17/50\n",
      "13490/13490 [==============================] - 2s 113us/step - loss: 0.0110\n",
      "Epoch 18/50\n",
      "13490/13490 [==============================] - 2s 114us/step - loss: 0.0107\n",
      "Epoch 19/50\n",
      "13490/13490 [==============================] - 1s 109us/step - loss: 0.0106\n",
      "Epoch 20/50\n",
      "13490/13490 [==============================] - 2s 112us/step - loss: 0.0104\n",
      "Epoch 21/50\n",
      "13490/13490 [==============================] - 2s 111us/step - loss: 0.0102\n",
      "Epoch 22/50\n",
      "13490/13490 [==============================] - 1s 108us/step - loss: 0.0101\n",
      "Epoch 23/50\n",
      "13490/13490 [==============================] - 1s 111us/step - loss: 0.0099\n",
      "Epoch 24/50\n",
      "13490/13490 [==============================] - 2s 113us/step - loss: 0.0097\n",
      "Epoch 25/50\n",
      "13490/13490 [==============================] - 1s 110us/step - loss: 0.0096\n",
      "Epoch 26/50\n",
      "13490/13490 [==============================] - 2s 111us/step - loss: 0.0095\n",
      "Epoch 27/50\n",
      "13490/13490 [==============================] - 2s 111us/step - loss: 0.0093\n",
      "Epoch 28/50\n",
      "13490/13490 [==============================] - 1s 111us/step - loss: 0.0092\n",
      "Epoch 29/50\n",
      "13490/13490 [==============================] - 1s 108us/step - loss: 0.0091\n",
      "Epoch 30/50\n",
      "13490/13490 [==============================] - 1s 111us/step - loss: 0.0091\n",
      "Epoch 31/50\n",
      "13490/13490 [==============================] - 1s 111us/step - loss: 0.0090\n",
      "Epoch 32/50\n",
      "13490/13490 [==============================] - 1s 111us/step - loss: 0.0088\n",
      "Epoch 33/50\n",
      "13490/13490 [==============================] - 1s 111us/step - loss: 0.0088\n",
      "Epoch 34/50\n",
      "13490/13490 [==============================] - 1s 111us/step - loss: 0.0087\n",
      "Epoch 35/50\n",
      "13490/13490 [==============================] - 2s 112us/step - loss: 0.0086\n",
      "Epoch 36/50\n",
      "13490/13490 [==============================] - 2s 112us/step - loss: 0.0085\n",
      "Epoch 37/50\n",
      "13490/13490 [==============================] - 1s 109us/step - loss: 0.0085\n",
      "Epoch 38/50\n",
      "13490/13490 [==============================] - 1s 107us/step - loss: 0.0084\n",
      "Epoch 39/50\n",
      "13490/13490 [==============================] - 2s 111us/step - loss: 0.0083\n",
      "Epoch 40/50\n",
      "13490/13490 [==============================] - 2s 113us/step - loss: 0.0083\n",
      "Epoch 41/50\n",
      "13490/13490 [==============================] - 2s 112us/step - loss: 0.0082\n",
      "Epoch 42/50\n",
      "13490/13490 [==============================] - 1s 105us/step - loss: 0.0081\n",
      "Epoch 43/50\n",
      "13490/13490 [==============================] - 1s 108us/step - loss: 0.0081\n",
      "Epoch 44/50\n",
      "13490/13490 [==============================] - 2s 112us/step - loss: 0.0080\n",
      "Epoch 45/50\n",
      "13490/13490 [==============================] - 1s 109us/step - loss: 0.0080\n",
      "Epoch 46/50\n",
      "13490/13490 [==============================] - 1s 108us/step - loss: 0.0079\n",
      "Epoch 47/50\n",
      "13490/13490 [==============================] - 1s 107us/step - loss: 0.0079\n",
      "Epoch 48/50\n",
      "13490/13490 [==============================] - 2s 111us/step - loss: 0.0078\n",
      "Epoch 49/50\n",
      "13490/13490 [==============================] - 1s 109us/step - loss: 0.0078\n",
      "Epoch 50/50\n",
      "13490/13490 [==============================] - 1s 108us/step - loss: 0.0077\n"
     ]
    }
   ],
   "source": [
    "i=6\n",
    "input_dim=x_train.shape[1]\n",
    "output_dim=len(set(y_train.tolist()))\n",
    "batch_size=16\n",
    "lr=0.1\n",
    "epochs=50\n",
    "hidden_num = input_dim*i\n",
    "hidden_num_2 = output_dim*i\n",
    "ohe = OneHotEncoder()\n",
    "y_train=ohe.fit_transform(np.matrix(y_train.values).T).toarray()\n",
    "model=Sequential()\n",
    "model.add(Dense(input_dim=input_dim,units=hidden_num))\n",
    "model.add(Activation('relu'))\n",
    "model.add(Dense(input_dim=hidden_num_2,units=output_dim))\n",
    "optimizer=SGD(lr=lr)\n",
    "model.compile(loss='mean_squared_error',optimizer=optimizer)\n",
    "model.fit(x_train,y_train,epochs=epochs,batch_size=batch_size,verbose=1)\n",
    "\n",
    "y_pre=model.predict_classes(x_test, batch_size=batch_size)\n",
    "y_fit_pre=model.predict_classes(x_train, batch_size=batch_size)\n",
    "\n",
    "y_true=y_test\n",
    "y_pre=y_pre+1\n",
    "y_fit_pre=y_fit_pre+1\n"
   ]
  },
  {
   "cell_type": "code",
   "execution_count": 11,
   "metadata": {
    "collapsed": false
   },
   "outputs": [
    {
     "name": "stdout",
     "output_type": "stream",
     "text": [
      "正在输出分类器准确率\n",
      "正在输出kappa系数\n"
     ]
    }
   ],
   "source": [
    "clf_name='NN'\n",
    "clf_names.append(clf_name)\n",
    "output(pipline_fit_score,pipline_test_score,pipline_fit_test_score,kappas_,y_true,y_pre,y_fit_pre,clf_name)\n",
    "ouput2(pipline_fit_score,pipline_test_score,pipline_fit_test_score,kappas_,clf_names)"
   ]
  },
  {
   "cell_type": "markdown",
   "metadata": {},
   "source": [
    "# 输出部分"
   ]
  },
  {
   "cell_type": "markdown",
   "metadata": {},
   "source": [
    "交叉矩阵(准确率、召回率,F1)"
   ]
  },
  {
   "cell_type": "markdown",
   "metadata": {},
   "source": [
    "kappa系数\n",
    "准确率\n",
    "kappa计算结果为-1~1，但通常kappa是落在 0~1 间，可分为五组来表示不同级别的一致性：\n",
    "0.0~0.20极低的一致性(slight)、\n",
    "0.21~0.40一般的一致性(fair)、\n",
    "0.41~0.60 中等的一致性(moderate)、\n",
    "0.61~0.80 高度的一致性(substantial)\n",
    "0.81~1几乎完全一致(almost perfect)。\n"
   ]
  },
  {
   "cell_type": "markdown",
   "metadata": {},
   "source": [
    "losss下降过程(运算时间)"
   ]
  },
  {
   "cell_type": "markdown",
   "metadata": {},
   "source": [
    "错的点的坐标"
   ]
  },
  {
   "cell_type": "markdown",
   "metadata": {},
   "source": [
    "预测值的输出"
   ]
  },
  {
   "cell_type": "markdown",
   "metadata": {},
   "source": [
    "神经网络层数图片"
   ]
  },
  {
   "cell_type": "markdown",
   "metadata": {},
   "source": [
    "学习曲线"
   ]
  },
  {
   "cell_type": "code",
   "execution_count": null,
   "metadata": {
    "collapsed": true
   },
   "outputs": [],
   "source": []
  }
 ],
 "metadata": {
  "kernelspec": {
   "display_name": "Python 3",
   "language": "python",
   "name": "python3"
  },
  "language_info": {
   "codemirror_mode": {
    "name": "ipython",
    "version": 3
   },
   "file_extension": ".py",
   "mimetype": "text/x-python",
   "name": "python",
   "nbconvert_exporter": "python",
   "pygments_lexer": "ipython3",
   "version": "3.5.1"
  }
 },
 "nbformat": 4,
 "nbformat_minor": 0
}
